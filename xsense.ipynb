{
 "cells": [
  {
   "cell_type": "code",
   "execution_count": 1,
   "id": "2e62a346",
   "metadata": {},
   "outputs": [],
   "source": [
    "from mvnx import MVNX"
   ]
  },
  {
   "cell_type": "code",
   "execution_count": 2,
   "id": "20b762e6",
   "metadata": {},
   "outputs": [],
   "source": [
    "file = MVNX('../CHOLE_Robot_Joystick_M-002.mvnx')"
   ]
  },
  {
   "cell_type": "code",
   "execution_count": 3,
   "id": "768482f8",
   "metadata": {},
   "outputs": [
    {
     "data": {
      "text/plain": [
       "{'jL5S1': ['Pelvis/jL5S1', 'L5/jL5S1'],\n",
       " 'jL4L3': ['L5/jL4L3', 'L3/jL4L3'],\n",
       " 'jL1T12': ['L3/jL1T12', 'T12/jL1T12'],\n",
       " 'jT9T8': ['T12/jT9T8', 'T8/jT9T8'],\n",
       " 'jT1C7': ['T8/jT1C7', 'Neck/jT1C7'],\n",
       " 'jC1Head': ['Neck/jC1Head', 'Head/jC1Head'],\n",
       " 'jRightT4Shoulder': ['T8/jRightT4Shoulder', 'RightShoulder/jRightT4Shoulder'],\n",
       " 'jRightShoulder': ['RightShoulder/jRightShoulder',\n",
       "  'RightUpperArm/jRightShoulder'],\n",
       " 'jRightElbow': ['RightUpperArm/jRightElbow', 'RightForeArm/jRightElbow'],\n",
       " 'jRightWrist': ['RightForeArm/jRightWrist', 'RightHand/jRightWrist'],\n",
       " 'jLeftT4Shoulder': ['T8/jLeftT4Shoulder', 'LeftShoulder/jLeftT4Shoulder'],\n",
       " 'jLeftShoulder': ['LeftShoulder/jLeftShoulder', 'LeftUpperArm/jLeftShoulder'],\n",
       " 'jLeftElbow': ['LeftUpperArm/jLeftElbow', 'LeftForeArm/jLeftElbow'],\n",
       " 'jLeftWrist': ['LeftForeArm/jLeftWrist', 'LeftHand/jLeftWrist'],\n",
       " 'jRightHip': ['Pelvis/jRightHip', 'RightUpperLeg/jRightHip'],\n",
       " 'jRightKnee': ['RightUpperLeg/jRightKnee', 'RightLowerLeg/jRightKnee'],\n",
       " 'jRightAnkle': ['RightLowerLeg/jRightAnkle', 'RightFoot/jRightAnkle'],\n",
       " 'jRightBallFoot': ['RightFoot/jRightBallFoot', 'RightToe/jRightBallFoot'],\n",
       " 'jLeftHip': ['Pelvis/jLeftHip', 'LeftUpperLeg/jLeftHip'],\n",
       " 'jLeftKnee': ['LeftUpperLeg/jLeftKnee', 'LeftLowerLeg/jLeftKnee'],\n",
       " 'jLeftAnkle': ['LeftLowerLeg/jLeftAnkle', 'LeftFoot/jLeftAnkle'],\n",
       " 'jLeftBallFoot': ['LeftFoot/jLeftBallFoot', 'LeftToe/jLeftBallFoot']}"
      ]
     },
     "execution_count": 3,
     "metadata": {},
     "output_type": "execute_result"
    }
   ],
   "source": [
    "file.joints"
   ]
  },
  {
   "cell_type": "code",
   "execution_count": null,
   "id": "f92e7ad9",
   "metadata": {},
   "outputs": [],
   "source": [
    "file.parse_all()"
   ]
  },
  {
   "cell_type": "code",
   "execution_count": null,
   "id": "c71a5719",
   "metadata": {},
   "outputs": [],
   "source": []
  }
 ],
 "metadata": {
  "kernelspec": {
   "display_name": "research",
   "language": "python",
   "name": "python3"
  },
  "language_info": {
   "codemirror_mode": {
    "name": "ipython",
    "version": 3
   },
   "file_extension": ".py",
   "mimetype": "text/x-python",
   "name": "python",
   "nbconvert_exporter": "python",
   "pygments_lexer": "ipython3",
   "version": "3.13.2"
  }
 },
 "nbformat": 4,
 "nbformat_minor": 5
}
